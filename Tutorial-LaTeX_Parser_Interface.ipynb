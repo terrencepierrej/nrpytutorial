{
 "cells": [
  {
   "cell_type": "markdown",
   "metadata": {},
   "source": [
    "<script async src=\"https://www.googletagmanager.com/gtag/js?id=UA-59152712-8\"></script>\n",
    "<script>\n",
    "  window.dataLayer = window.dataLayer || [];\n",
    "  function gtag(){dataLayer.push(arguments);}\n",
    "  gtag('js', new Date());\n",
    "\n",
    "  gtag('config', 'UA-59152712-8');\n",
    "</script>\n",
    "\n",
    "# NRPy+ LaTeX Parser Interface\n",
    "\n",
    "## Author: Ken Sible\n",
    "\n",
    "## The following module will demonstrate a recursive descent parser for LaTeX.\n",
    "\n",
    "### NRPy+ Source Code for this module:\n",
    "1. [latex_parser.py](../edit/latex_parser.py); [\\[**tutorial**\\]](Tutorial-LaTeX_Parser_Interface.ipynb) The latex_parser.py script will convert a LaTeX sentence to a SymPy expression using the following function: parse(sentence)."
   ]
  },
  {
   "cell_type": "markdown",
   "metadata": {},
   "source": [
    "<a id='toc'></a>\n",
    "\n",
    "# Table of Contents\n",
    "$$\\label{toc}$$\n",
    "\n",
    "1. [Step 1](#intro): Lexical Analysis and Syntax Analysis\n",
    "1. [Step 2](#demo): Parser Demonstration and Sandbox\n",
    "1. [Step 3](#tensor): Tensor Support with Einstein Notation\n",
    "1. [Step 4](#error): Exception Handling and Index Checking\n",
    "1. [Step 5](#latex_pdf_output): $\\LaTeX$ PDF Output"
   ]
  },
  {
   "cell_type": "markdown",
   "metadata": {},
   "source": [
    "<a id='intro'></a>\n",
    "\n",
    "# Step 1: Lexical Analysis and Syntax Analysis \\[Back to [top](#toc)\\]\n",
    "$$\\label{intro}$$\n",
    "\n",
    "In the following section, we discuss [lexical analysis](https://en.wikipedia.org/wiki/Lexical_analysis) (lexing) and [syntax analysis](https://en.wikipedia.org/wiki/Parsing) (parsing). In the process of lexical analysis, a lexer will tokenize a character string, called a sentence, using substring pattern matching (or tokenizing). We implemented a regex-based lexer for NRPy+, which does pattern matching using a [regular expression](https://en.wikipedia.org/wiki/Regular_expression) for each token pattern. In the process of syntax analysis, a parser will receive a token iterator from the lexer and build a parse tree containing all syntactic information of the language, as specified by a [formal grammar](https://en.wikipedia.org/wiki/Formal_grammar). We implemented a [recursive descent parser](https://en.wikipedia.org/wiki/Recursive_descent_parser) for NRPy+, which will build a parse tree in [preorder](https://en.wikipedia.org/wiki/Tree_traversal#Pre-order_(NLR)), starting from the root [nonterminal](https://en.wikipedia.org/wiki/Terminal_and_nonterminal_symbols), using a [right recursive](https://en.wikipedia.org/wiki/Left_recursion) grammar. The following right recursive, [context-free grammar](https://en.wikipedia.org/wiki/Context-free_grammar) was written for parsing [LaTeX](https://en.wikipedia.org/wiki/LaTeX), adhering to the canonical (extended) [BNF](https://en.wikipedia.org/wiki/Backus%E2%80%93Naur_form) notation used for describing a context-free grammar.\n",
    "\n",
    "```\n",
    "<EXPRESSION>    -> <TERM> { ( '+' | '-' ) <TERM> }*\n",
    "<TERM>          -> <FACTOR> { [ '/' ] <FACTOR> }*\n",
    "<FACTOR>        -> <BASE> { '^' <EXPONENT> }*\n",
    "<BASE>          -> [ '-' ] ( <ATOM> | <SUBEXPR> )\n",
    "<EXPONENT>      -> <BASE> | '{' <BASE> '}' | '{{' <BASE> '}}'\n",
    "<ATOM>          -> <COMMAND> | <OPERATOR> | <NUMBER> | <TENSOR>\n",
    "<SUBEXPR>       -> '(' <EXPRESSION> ')' | '[' <EXPRESSION> ']' | '{' <EXPRESSION> '}'\n",
    "<COMMAND>       -> <FUNC> | <FRAC> | <SQRT> | <NLOG> | <TRIG>\n",
    "    ⋮            ⋮\n",
    "```\n",
    "\n",
    "<small>**Source**: Robert W. Sebesta. Concepts of Programming Languages. Pearson Education Limited, 2016.</small>"
   ]
  },
  {
   "cell_type": "code",
   "execution_count": 1,
   "metadata": {},
   "outputs": [],
   "source": [
    "from latex_parser import *\n",
    "import sympy as sp, sys"
   ]
  },
  {
   "cell_type": "code",
   "execution_count": 2,
   "metadata": {},
   "outputs": [
    {
     "name": "stdout",
     "output_type": "stream",
     "text": [
      "LPAREN, INTEGER, PLUS, LETTER, DIVIDE, LETTER, RPAREN, CARET, LETTER\n"
     ]
    }
   ],
   "source": [
    "lexer = Lexer(); lexer.initialize(r'(1 + x/n)^n')\n",
    "print(', '.join(token for token in lexer.tokenize()))"
   ]
  },
  {
   "cell_type": "code",
   "execution_count": 3,
   "metadata": {},
   "outputs": [
    {
     "name": "stdout",
     "output_type": "stream",
     "text": [
      "(1 + x/n)**n : Pow(Add(Integer(1), Mul(Pow(Symbol('n'), Integer(-1)), Symbol('x'))), Symbol('n'))\n"
     ]
    }
   ],
   "source": [
    "expr = parse_expr(r'(1 + x/n)^n')\n",
    "print(expr, ':', sp.srepr(expr))"
   ]
  },
  {
   "cell_type": "markdown",
   "metadata": {},
   "source": [
    "#### `Grammar Derivation: (1 + x/n)^n`\n",
    "```\n",
    "<EXPRESSION> -> <TERM>\n",
    "             -> <FACTOR>\n",
    "             -> <BASE>^<EXPONENT>\n",
    "             -> <SUBEXPR>^<EXPONENT>\n",
    "             -> (<EXPRESSION>)^<EXPONENT>\n",
    "             -> (<TERM> + <TERM>)^<EXPONENT>\n",
    "             -> (<FACTOR> + <TERM>)^<EXPONENT>\n",
    "             -> (<BASE> + <TERM>)^<EXPONENT>\n",
    "             -> (<ATOM> + <TERM>)^<EXPONENT>\n",
    "             -> (<NUMBER> + <TERM>)^<EXPONENT>\n",
    "             -> (<INTEGER> + <TERM>)^<EXPONENT>\n",
    "             -> (1 + <TERM>)^<EXPONENT>\n",
    "             -> (1 + <FACTOR> / <FACTOR>)^<EXPONENT>\n",
    "             -> ...\n",
    "```"
   ]
  },
  {
   "cell_type": "markdown",
   "metadata": {},
   "source": [
    "<a id='demo'></a>\n",
    "\n",
    "# Step 2: Parser Demonstration and Sandbox \\[Back to [top](#toc)\\]\n",
    "$$\\label{demo}$$\n",
    "\n",
    "We implemented a wrapper function for the `parse()` method that will accept a LaTeX sentence and return a SymPy expression. Furthermore, the entire parsing module was designed for extendibility. We apply the following procedure for extending parser functionality to include an unsupported LaTeX command: append that command to the grammar dictionary in the Lexer class with the mapping regex:token, write a grammar abstraction (similar to a regular expression) for that command, add the associated nonterminal (the command name) to the command abstraction in the Parser class, and finally implement the straightforward (private) method for parsing the grammar abstraction. We shall demonstrate the extension procedure using the `\\sqrt` LaTeX command.\n",
    "\n",
    "```<SQRT> -> <SQRT_CMD> [ '[' <INTEGER> ']' ] '{' <EXPRESSION> '}'```\n",
    "```\n",
    "def _sqrt(self):\n",
    "    self.expect('SQRT_CMD')\n",
    "    if self.accept('LBRACK'):\n",
    "        integer = self.lexer.lexeme\n",
    "        self.expect('INTEGER')\n",
    "        root = Rational(1, integer)\n",
    "        self.expect('RBRACK')\n",
    "    else: root = Rational(1, 2)\n",
    "    self.expect('LBRACE')\n",
    "    expr = self._expression()\n",
    "    self.expect('RBRACE')\n",
    "    if root == Rational(1, 2):\n",
    "        return sqrt(expr)\n",
    "    return Pow(expr, root)\n",
    "```"
   ]
  },
  {
   "cell_type": "markdown",
   "metadata": {},
   "source": [
    "In addition to expression parsing, we included support for equation parsing, which will produce a dictionary mapping LHS $\\mapsto$ RHS, where LHS must be a symbol, and insert that mapping into the global namespace of the previous stack frame, as demonstrated below."
   ]
  },
  {
   "cell_type": "markdown",
   "metadata": {},
   "source": [
    "$$ \\mathit{s_n} = \\left(1 + \\frac{1}{n}\\right)^n $$"
   ]
  },
  {
   "cell_type": "code",
   "execution_count": 4,
   "metadata": {},
   "outputs": [
    {
     "name": "stdout",
     "output_type": "stream",
     "text": [
      "s_n = (1 + 1/n)**n\n"
     ]
    }
   ],
   "source": [
    "parse(r'\\mathit{s_n} = \\left(1 + \\frac{1}{n}\\right)^n')\n",
    "print('s_n =', s_n)"
   ]
  },
  {
   "cell_type": "markdown",
   "metadata": {},
   "source": [
    "We implemented robust error messaging using the custom `ParseError` exception, which should handle every conceivable case to identify, as detailed as possible, invalid syntax inside of a LaTeX sentence. The following are some runnable examples of possible error messages."
   ]
  },
  {
   "cell_type": "code",
   "execution_count": 5,
   "metadata": {},
   "outputs": [],
   "source": [
    "Parser.ignore_override(); Parser.continue_parsing = False"
   ]
  },
  {
   "cell_type": "code",
   "execution_count": 6,
   "metadata": {},
   "outputs": [
    {
     "name": "stdout",
     "output_type": "stream",
     "text": [
      "ParseError: x^{{2}} + 2*x\n",
      "                       ^\n",
      "unexpected '*' at position 11\n"
     ]
    }
   ],
   "source": [
    "try: parse_expr(r'x^{{2}} + 2*x')\n",
    "except ParseError as err:\n",
    "    print('ParseError: %s' % err)"
   ]
  },
  {
   "cell_type": "code",
   "execution_count": 7,
   "metadata": {},
   "outputs": [
    {
     "name": "stdout",
     "output_type": "stream",
     "text": [
      "ParseError: \\sqrt[0.1]{2x^2}\n",
      "                  ^\n",
      "expected token INTEGER at position 6\n"
     ]
    }
   ],
   "source": [
    "try: parse_expr(r'\\sqrt[0.1]{2x^2}')\n",
    "except ParseError as err:\n",
    "    print('ParseError: %s' % err)"
   ]
  },
  {
   "cell_type": "code",
   "execution_count": 8,
   "metadata": {},
   "outputs": [
    {
     "name": "stdout",
     "output_type": "stream",
     "text": [
      "ParseError: \\int_0^5 2x^2dx\n",
      "            ^\n",
      "unsupported command '\\int' at position 0\n"
     ]
    }
   ],
   "source": [
    "try: parse_expr(r'\\int_0^5 2x^2\\,dx')\n",
    "except ParseError as err:\n",
    "    print('ParseError: %s' % err)"
   ]
  },
  {
   "cell_type": "markdown",
   "metadata": {},
   "source": [
    "In the sandbox code cell below, you can experiment with the LaTeX parser using the wrapper function `parse(sentence)`, where sentence must be a [raw string](https://docs.python.org/3/reference/lexical_analysis.html) to interpret a backslash as a literal character rather than an [escape sequence](https://en.wikipedia.org/wiki/Escape_sequence)."
   ]
  },
  {
   "cell_type": "code",
   "execution_count": 9,
   "metadata": {},
   "outputs": [],
   "source": [
    "# Write Sandbox Code Here"
   ]
  },
  {
   "cell_type": "markdown",
   "metadata": {},
   "source": [
    "<a id='tensor'></a>\n",
    "\n",
    "# Step 3: Tensor Support with Einstein Notation \\[Back to [top](#toc)\\]\n",
    "$$\\label{tensor}$$\n",
    "\n",
    "In the following section, we demonstrate the current parser support for tensor notation using the Einstein summation convention. The first example will parse an equation for a tensor contraction, the second will parse an equation for raising an index using the metric tensor, and the third will parse an align enviroment with an equation dependency. In each example, every tensor should appear either on the LHS of an equation or inside of a configuration before appearing on the RHS of an equation. Moreover, the parser will raise an exception upon violation of the Einstein summation convention, i.e. an invalid free or bound index.\n",
    "\n",
    "**Grammar for the Define Macro**\n",
    "\n",
    "```\n",
    "<DEFINE>    -> <DEFINE_MACRO> ( <VARDEF> | <KEYDEF> ) { ',' ( <VARDEF> | <KEYDEF> ) }*\n",
    "<VARDEF>    -> [ <SYMMETRY> ] ( <LETTER> | <VARIABLE> ) [ '(' <DIMENSION> ')' ]\n",
    "<KEYDEF>    -> <BASIS_KWRD> <BASIS> | <DERIV_KWRD> <MODIFIER> | <INDEX_KWRD> <RANGE>\n",
    "<BASIS>     -> <BASIS_KWRD> '{' <LETTER> [ ',' <LETTER> ]* '}'\n",
    "<RANGE>     -> ( <LETTER> | '[' <LETTER> '-' <LETTER> ']' ) '=' <INTEGER> ':' <INTEGER>\n",
    "```"
   ]
  },
  {
   "cell_type": "markdown",
   "metadata": {},
   "source": [
    "#### Example 1. [Tensor Contraction](https://en.wikipedia.org/wiki/Tensor_contraction)\n",
    "LaTeX Source | Rendered LaTeX\n",
    ":----------- | :-------------\n",
    "<pre lang=\"latex\"> h = h^\\mu{}_\\mu </pre> | $$ h = h^\\mu{}_\\mu $$"
   ]
  },
  {
   "cell_type": "code",
   "execution_count": 10,
   "metadata": {},
   "outputs": [
    {
     "data": {
      "text/plain": [
       "(Tensor(hUD, 4D), Scalar(h))"
      ]
     },
     "execution_count": 10,
     "metadata": {},
     "output_type": "execute_result"
    }
   ],
   "source": [
    "parse(r\"\"\"\n",
    "    % define nosym hUD (4D);\n",
    "    h = h^\\mu{}_\\mu\n",
    "\"\"\", verbose=True)"
   ]
  },
  {
   "cell_type": "code",
   "execution_count": 11,
   "metadata": {},
   "outputs": [
    {
     "name": "stdout",
     "output_type": "stream",
     "text": [
      "h = hUD00 + hUD11 + hUD22 + hUD33\n"
     ]
    }
   ],
   "source": [
    "print('h =', h)"
   ]
  },
  {
   "cell_type": "markdown",
   "metadata": {},
   "source": [
    "#### Example 2. [Tensor Index Raising](https://en.wikipedia.org/wiki/Raising_and_lowering_indices) ([Metric Tensor](https://en.wikipedia.org/wiki/Metric_tensor))\n",
    "LaTeX Source | Rendered LaTeX\n",
    ":----------- | :-------------\n",
    "<pre lang=\"latex\"> v^\\mu = g^{\\mu\\nu} v_\\nu </pre> | $$ v^\\mu = g^{\\mu\\nu} v_\\nu $$"
   ]
  },
  {
   "cell_type": "code",
   "execution_count": 12,
   "metadata": {},
   "outputs": [
    {
     "data": {
      "text/plain": [
       "('gDD', 'gdet', 'gUU', 'vD', 'vU')"
      ]
     },
     "execution_count": 12,
     "metadata": {},
     "output_type": "execute_result"
    }
   ],
   "source": [
    "parse(r\"\"\"\n",
    "    % define metric gUU (3D), vD (3D);\n",
    "    v^\\mu = g^{\\mu\\nu} v_\\nu\n",
    "\"\"\")"
   ]
  },
  {
   "cell_type": "code",
   "execution_count": 13,
   "metadata": {},
   "outputs": [
    {
     "name": "stdout",
     "output_type": "stream",
     "text": [
      "vU = [gUU00*vD0 + gUU01*vD1 + gUU02*vD2, gUU01*vD0 + gUU11*vD1 + gUU12*vD2, gUU02*vD0 + gUU12*vD1 + gUU22*vD2]\n"
     ]
    }
   ],
   "source": [
    "print('vU =', vU)"
   ]
  },
  {
   "cell_type": "markdown",
   "metadata": {},
   "source": [
    "#### Example 3. [Permutation Symbol](https://en.wikipedia.org/wiki/Levi-Civita_symbol) ([Cross Product](https://en.wikipedia.org/wiki/Cross_product))\n",
    "LaTeX Source | Rendered LaTeX\n",
    ":----------- | :-------------\n",
    "<pre lang=\"latex\"> u_i = \\epsilon_{ijk} v^j w^k </pre> | $$ u_i = \\epsilon_{ijk} v^j w^k $$"
   ]
  },
  {
   "cell_type": "code",
   "execution_count": 14,
   "metadata": {},
   "outputs": [
    {
     "data": {
      "text/plain": [
       "('epsilonDDD', 'vU', 'wU', 'uD')"
      ]
     },
     "execution_count": 14,
     "metadata": {},
     "output_type": "execute_result"
    }
   ],
   "source": [
    "parse(r\"\"\"\n",
    "    % define epsilonDDD (3D);\n",
    "    % define vU (3D), wU (3D);\n",
    "    u_i = \\epsilon_{ijk} v^j w^k\n",
    "\"\"\")"
   ]
  },
  {
   "cell_type": "code",
   "execution_count": 15,
   "metadata": {},
   "outputs": [
    {
     "name": "stdout",
     "output_type": "stream",
     "text": [
      "uD = [vU1*wU2 - vU2*wU1, -vU0*wU2 + vU2*wU0, vU0*wU1 - vU1*wU0]\n"
     ]
    }
   ],
   "source": [
    "print('uD =', uD)"
   ]
  },
  {
   "cell_type": "markdown",
   "metadata": {},
   "source": [
    "#### Example 4 (1). [Covariant Derivative](https://en.wikipedia.org/wiki/Covariant_derivative) ([Four Current](https://en.wikipedia.org/wiki/Four-current))\n",
    "LaTeX Source | Rendered LaTeX\n",
    ":----------- | :-------------\n",
    "<pre lang=\"latex\"> J^\\mu = (4\\pi k)^{-1} \\vphantom{_d} \\nabla_\\nu F^{\\mu\\nu} </pre> | $$ J^\\mu = (4\\pi k)^{-1} \\vphantom{_d} \\nabla_\\nu F^{\\mu\\nu} $$"
   ]
  },
  {
   "cell_type": "markdown",
   "metadata": {},
   "source": [
    "The following are contextually inferred, dynamically generated, and injected into the global namespace for expansion of the covariant derivative $\\nabla_\\nu F^{\\mu\\nu}$\n",
    "$$\n",
    "\\begin{align*}\n",
    "    \\Gamma^\\mu_{ba} &= \\frac{1}{2} g^{\\mu c}(\\partial_b\\,g_{a c} + \\partial_a\\,g_{c b} - \\partial_c\\,g_{b a}) \\\\\n",
    "    \\Gamma^\\nu_{ba} &= \\frac{1}{2} g^{\\nu c}(\\partial_b\\,g_{a c} + \\partial_a\\,g_{c b} - \\partial_c\\,g_{b a}) \\\\\n",
    "    \\nabla_a F^{\\mu \\nu} &= \\partial_a F^{\\mu \\nu} + \\Gamma^\\mu_{b a} F^{b \\nu} + \\Gamma^\\nu_{b a} F^{\\mu b}\n",
    "\\end{align*}\n",
    "$$"
   ]
  },
  {
   "cell_type": "code",
   "execution_count": 16,
   "metadata": {},
   "outputs": [
    {
     "name": "stdout",
     "output_type": "stream",
     "text": [
      "('FUU', 'gUU', 'gdet', 'gDD', 'k', 'FUU_dD', 'gDD_dD', 'GammaUDD', 'FUU_cdD', 'JU')\n"
     ]
    }
   ],
   "source": [
    "print(parse(r\"\"\"\n",
    "    % define anti01 FUU (4D), metric gDD (4D), const k;\n",
    "    J^\\mu = (4\\pi k)^{-1} \\vphantom{variable} \\nabla_\\nu F^{\\mu\\nu}\n",
    "\"\"\"))"
   ]
  },
  {
   "cell_type": "markdown",
   "metadata": {},
   "source": [
    "#### Example 4 (2). Diacritic Support\n",
    "LaTeX Source | Rendered LaTeX\n",
    ":----------- | :-------------\n",
    "<pre lang=\"latex\"> J^\\mu = (4\\pi k)^{-1} \\vphantom{_d} \\hat{\\nabla}_\\nu F^{\\mu\\nu} </pre> | $$ J^\\mu = (4\\pi k)^{-1} \\vphantom{_d} \\hat{\\nabla}_\\nu F^{\\mu\\nu} $$"
   ]
  },
  {
   "cell_type": "code",
   "execution_count": 17,
   "metadata": {},
   "outputs": [
    {
     "name": "stdout",
     "output_type": "stream",
     "text": [
      "('FUU', 'ghatUU', 'ghatdet', 'ghatDD', 'k', 'FUU_dD', 'ghatDD_dD', 'GammahatUDD', 'FUU_cdhatD', 'JU')\n"
     ]
    }
   ],
   "source": [
    "print(parse(r\"\"\"\n",
    "    % define anti01 FUU (4D), metric ghatDD (4D), const k;\n",
    "    J^\\mu = (4\\pi k)^{-1} \\vphantom{variable} \\hat{\\nabla}_\\nu F^{\\mu\\nu}\n",
    "\"\"\"))"
   ]
  },
  {
   "cell_type": "markdown",
   "metadata": {},
   "source": [
    "#### Example 5 (1). [Schwarzschild Metric](https://en.wikipedia.org/wiki/Schwarzschild_metric)\n",
    "LaTeX Source | Rendered LaTeX\n",
    ":----------- | :-------------\n",
    "<pre><code>% define basis [t, r, \\theta, \\phi];<br>% define metric gDD (4), kronecker deltaDD (4);<br>% define const G, const M;<br>% parse g_{\\mu\\nu} = \\delta_{\\mu\\nu};<br>&#92;begin{align}<br>&emsp;&emsp;&emsp;g_{0 0} &= -\\left(1 - \\frac{2GM}{r}\\right) &#92;&#92;<br>&emsp;&emsp;&emsp;g_{1 1} &=  \\left(1 - \\frac{2GM}{r}\\right)^{-1} &#92;&#92;<br>&emsp;&emsp;&emsp;g_{2 2} &= r^{{2}} &#92;&#92;<br>&emsp;&emsp;&emsp;g_{3 3} &= r^{{2}} \\sin^2\\theta<br>&#92;end{align}<br>% assign metric gDD;|$$\n",
    "% define basis [t, r, \\theta, \\phi];\n",
    "% define metric gDD (4), kronecker deltaDD (4);\n",
    "% define const G, const M;\n",
    "% parse g_{\\mu\\nu} = \\delta_{\\mu\\nu};\n",
    "\\begin{align}\n",
    "    g_{0 0} &= -\\left(1 - \\frac{2GM}{r}\\right) \\\\\n",
    "    g_{1 1} &=  \\left(1 - \\frac{2GM}{r}\\right)^{-1} \\\\\n",
    "    g_{2 2} &= r^{{2}} \\\\\n",
    "    g_{3 3} &= r^{{2}} \\sin^2\\theta\n",
    "\\end{align}\n",
    "% assign metric gDD;\n",
    "$$"
   ]
  },
  {
   "cell_type": "code",
   "execution_count": 18,
   "metadata": {},
   "outputs": [],
   "source": [
    "parse(r\"\"\"\n",
    "    % define deltaDD (4D);\n",
    "    % define const G, const M;\n",
    "    % parse g_{\\mu\\nu} = \\delta_{\\mu\\nu};\n",
    "    \\begin{align}\n",
    "        g_{0 0} &= -\\left(1 - \\frac{2GM}{r}\\right) \\\\\n",
    "        g_{1 1} &=  \\left(1 - \\frac{2GM}{r}\\right)^{-1} \\\\\n",
    "        g_{2 2} &= r^{{2}} \\\\\n",
    "        g_{3 3} &= r^{{2}} \\sin^2\\theta\n",
    "    \\end{align}\n",
    "    % assign metric gDD\n",
    "\"\"\")\n",
    "Parser.continue_parsing = True"
   ]
  },
  {
   "cell_type": "code",
   "execution_count": 19,
   "metadata": {},
   "outputs": [
    {
     "data": {
      "text/latex": [
       "$\\displaystyle \\left[\\begin{matrix}\\frac{2 G M}{r} - 1 & 0 & 0 & 0\\\\0 & \\frac{1}{- \\frac{2 G M}{r} + 1} & 0 & 0\\\\0 & 0 & r^{2} & 0\\\\0 & 0 & 0 & r^{2} \\sin^{2}{\\left(\\theta \\right)}\\end{matrix}\\right]$"
      ],
      "text/plain": [
       "Matrix([\n",
       "[2*G*M/r - 1,                0,    0,                  0],\n",
       "[          0, 1/(-2*G*M/r + 1),    0,                  0],\n",
       "[          0,                0, r**2,                  0],\n",
       "[          0,                0,    0, r**2*sin(theta)**2]])"
      ]
     },
     "metadata": {},
     "output_type": "display_data"
    }
   ],
   "source": [
    "display(sp.Matrix(gDD))"
   ]
  },
  {
   "cell_type": "markdown",
   "metadata": {},
   "source": [
    "#### Example 5 (2). [Kretschmann Scalar](https://en.wikipedia.org/wiki/Kretschmann_scalar) ([Einstein Tensor](https://en.wikipedia.org/wiki/Einstein_tensor))\n",
    "LaTeX Source | Rendered LaTeX\n",
    ":----------- | :-------------\n",
    "<pre><code>&#92;begin{align}<br>&emsp;&emsp;&emsp;R^\\alpha{}_{\\beta\\mu\\nu} &= \\partial_\\mu \\Gamma^\\alpha_{\\beta\\nu} - \\partial_\\nu \\Gamma^\\alpha_{\\beta\\mu}<br>&emsp;&emsp;&emsp;&emsp;&emsp;&emsp;+ \\Gamma^\\alpha_{\\mu\\gamma}\\Gamma^\\gamma_{\\beta\\nu} - \\Gamma^\\alpha_{\\nu\\sigma}\\Gamma^\\sigma_{\\beta\\mu} &#92;&#92;<br>&emsp;&emsp;&emsp;R^{\\alpha\\beta\\mu\\nu} &= g^{\\beta a} g^{\\mu b} g^{\\nu c} R^\\alpha{}_{a b c} &#92;&#92;<br>&emsp;&emsp;&emsp;R_{\\alpha\\beta\\mu\\nu} &= g_{\\alpha a} R^a{}_{\\beta\\mu\\nu} &#92;&#92;<br>&emsp;&emsp;&emsp;K &= R^{\\alpha\\beta\\mu\\nu} R_{\\alpha\\beta\\mu\\nu} &#92;&#92;<br>&emsp;&emsp;&emsp;R_{\\beta\\nu} &= R^\\alpha{}_{\\beta\\alpha\\nu} &#92;&#92;<br>&emsp;&emsp;&emsp;R &= g^{\\beta\\nu} R_{\\beta\\nu} &#92;&#92;<br>&emsp;&emsp;&emsp;G_{\\beta\\nu} &= R_{\\beta\\nu} - \\frac{1}{2}g_{\\beta\\nu}R<br>&#92;end{align}</code></pre>|$$\n",
    "\\begin{align}\n",
    "    R^\\alpha{}_{\\beta\\mu\\nu} &= \\partial_\\mu \\Gamma^\\alpha_{\\beta\\nu} - \\partial_\\nu \\Gamma^\\alpha_{\\beta\\mu}\n",
    "        + \\Gamma^\\alpha_{\\mu\\gamma}\\Gamma^\\gamma_{\\beta\\nu} - \\Gamma^\\alpha_{\\nu\\sigma}\\Gamma^\\sigma_{\\beta\\mu} \\\\\n",
    "    R^{\\alpha\\beta\\mu\\nu} &= g^{\\beta a} g^{\\mu b} g^{\\nu c} R^\\alpha{}_{a b c} \\\\\n",
    "    R_{\\alpha\\beta\\mu\\nu} &= g_{\\alpha a} R^a{}_{\\beta\\mu\\nu} \\\\\n",
    "    K &= R^{\\alpha\\beta\\mu\\nu} R_{\\alpha\\beta\\mu\\nu} \\\\\n",
    "    R_{\\beta\\nu} &= R^\\alpha{}_{\\beta\\alpha\\nu} \\\\\n",
    "    R &= g^{\\beta\\nu} R_{\\beta\\nu} \\\\\n",
    "    G_{\\beta\\nu} &= R_{\\beta\\nu} - \\frac{1}{2}g_{\\beta\\nu}R\n",
    "\\end{align}\n",
    "$$"
   ]
  },
  {
   "cell_type": "code",
   "execution_count": 20,
   "metadata": {},
   "outputs": [],
   "source": [
    "parse(r\"\"\"\n",
    "    % define basis [t, r, \\theta, \\phi];\n",
    "    \\begin{align}\n",
    "        R^\\alpha{}_{\\beta\\mu\\nu} &= \\partial_\\mu \\Gamma^\\alpha_{\\beta\\nu} - \\partial_\\nu \\Gamma^\\alpha_{\\beta\\mu}\n",
    "            + \\Gamma^\\alpha_{\\mu\\gamma}\\Gamma^\\gamma_{\\beta\\nu} - \\Gamma^\\alpha_{\\nu\\sigma}\\Gamma^\\sigma_{\\beta\\mu} \\\\\n",
    "        R^{\\alpha\\beta\\mu\\nu} &= g^{\\beta a} g^{\\mu b} g^{\\nu c} R^\\alpha{}_{a b c} \\\\\n",
    "        R_{\\alpha\\beta\\mu\\nu} &= g_{\\alpha a} R^a{}_{\\beta\\mu\\nu} \\\\\n",
    "        K &= R^{\\alpha\\beta\\mu\\nu} R_{\\alpha\\beta\\mu\\nu} \\\\\n",
    "        R_{\\beta\\nu} &= R^\\alpha{}_{\\beta\\alpha\\nu} \\\\\n",
    "        R &= g^{\\beta\\nu} R_{\\beta\\nu} \\\\\n",
    "        G_{\\beta\\nu} &= R_{\\beta\\nu} - \\frac{1}{2}g_{\\beta\\nu}R\n",
    "    \\end{align}\n",
    "\"\"\");"
   ]
  },
  {
   "cell_type": "code",
   "execution_count": 21,
   "metadata": {},
   "outputs": [
    {
     "data": {
      "text/latex": [
       "$\\displaystyle \\left[\\begin{matrix}0 & 0 & 0 & 0\\\\0 & 0 & 0 & 0\\\\0 & 0 & 0 & 0\\\\0 & 0 & 0 & 0\\end{matrix}\\right]$"
      ],
      "text/plain": [
       "Matrix([\n",
       "[0, 0, 0, 0],\n",
       "[0, 0, 0, 0],\n",
       "[0, 0, 0, 0],\n",
       "[0, 0, 0, 0]])"
      ]
     },
     "execution_count": 21,
     "metadata": {},
     "output_type": "execute_result"
    }
   ],
   "source": [
    "sp.simplify(sp.Matrix(RDD))"
   ]
  },
  {
   "cell_type": "code",
   "execution_count": 22,
   "metadata": {},
   "outputs": [
    {
     "data": {
      "text/latex": [
       "$\\displaystyle \\left[\\begin{matrix}0 & - \\frac{G M}{r^{2} \\left(\\frac{2 G M}{r} - 1\\right)} & 0 & 0\\\\- \\frac{G M}{r^{2} \\left(\\frac{2 G M}{r} - 1\\right)} & 0 & 0 & 0\\\\0 & 0 & 0 & 0\\\\0 & 0 & 0 & 0\\end{matrix}\\right]$"
      ],
      "text/plain": [
       "Matrix([\n",
       "[                        0, -G*M/(r**2*(2*G*M/r - 1)), 0, 0],\n",
       "[-G*M/(r**2*(2*G*M/r - 1)),                         0, 0, 0],\n",
       "[                        0,                         0, 0, 0],\n",
       "[                        0,                         0, 0, 0]])"
      ]
     },
     "metadata": {},
     "output_type": "display_data"
    }
   ],
   "source": [
    "display(sp.Matrix(GammaUDD[0][:][:]))"
   ]
  },
  {
   "cell_type": "code",
   "execution_count": 23,
   "metadata": {},
   "outputs": [
    {
     "data": {
      "text/latex": [
       "$\\displaystyle \\left[\\begin{matrix}\\frac{G M \\left(- \\frac{2 G M}{r} + 1\\right)}{r^{2}} & 0 & 0 & 0\\\\0 & - \\frac{G M}{r^{2} \\left(- \\frac{2 G M}{r} + 1\\right)} & 0 & 0\\\\0 & 0 & - r \\left(- \\frac{2 G M}{r} + 1\\right) & 0\\\\0 & 0 & 0 & - r \\left(- \\frac{2 G M}{r} + 1\\right) \\sin^{2}{\\left(\\theta \\right)}\\end{matrix}\\right]$"
      ],
      "text/plain": [
       "Matrix([\n",
       "[G*M*(-2*G*M/r + 1)/r**2,                          0,                 0,                               0],\n",
       "[                      0, -G*M/(r**2*(-2*G*M/r + 1)),                 0,                               0],\n",
       "[                      0,                          0, -r*(-2*G*M/r + 1),                               0],\n",
       "[                      0,                          0,                 0, -r*(-2*G*M/r + 1)*sin(theta)**2]])"
      ]
     },
     "metadata": {},
     "output_type": "display_data"
    }
   ],
   "source": [
    "display(sp.Matrix(GammaUDD[1][:][:]))"
   ]
  },
  {
   "cell_type": "code",
   "execution_count": 24,
   "metadata": {},
   "outputs": [
    {
     "data": {
      "text/latex": [
       "$\\displaystyle \\left[\\begin{matrix}0 & 0 & 0 & 0\\\\0 & 0 & \\frac{1}{r} & 0\\\\0 & \\frac{1}{r} & 0 & 0\\\\0 & 0 & 0 & - \\sin{\\left(\\theta \\right)} \\cos{\\left(\\theta \\right)}\\end{matrix}\\right]$"
      ],
      "text/plain": [
       "Matrix([\n",
       "[0,   0,   0,                      0],\n",
       "[0,   0, 1/r,                      0],\n",
       "[0, 1/r,   0,                      0],\n",
       "[0,   0,   0, -sin(theta)*cos(theta)]])"
      ]
     },
     "metadata": {},
     "output_type": "display_data"
    }
   ],
   "source": [
    "display(sp.Matrix(GammaUDD[2][:][:]))"
   ]
  },
  {
   "cell_type": "code",
   "execution_count": 25,
   "metadata": {},
   "outputs": [
    {
     "data": {
      "text/latex": [
       "$\\displaystyle \\left[\\begin{matrix}0 & 0 & 0 & 0\\\\0 & 0 & 0 & \\frac{1}{r}\\\\0 & 0 & 0 & \\frac{\\cos{\\left(\\theta \\right)}}{\\sin{\\left(\\theta \\right)}}\\\\0 & \\frac{1}{r} & \\frac{\\cos{\\left(\\theta \\right)}}{\\sin{\\left(\\theta \\right)}} & 0\\end{matrix}\\right]$"
      ],
      "text/plain": [
       "Matrix([\n",
       "[0,   0,                     0,                     0],\n",
       "[0,   0,                     0,                   1/r],\n",
       "[0,   0,                     0, cos(theta)/sin(theta)],\n",
       "[0, 1/r, cos(theta)/sin(theta),                     0]])"
      ]
     },
     "metadata": {},
     "output_type": "display_data"
    }
   ],
   "source": [
    "display(sp.Matrix(GammaUDD[3][:][:]))"
   ]
  },
  {
   "cell_type": "markdown",
   "metadata": {},
   "source": [
    "For the Schwarzschild metric, the Kretschmann scalar $K$ has the property that $K\\to\\infty$ as $r\\to 0$, and hence the metric and spacetime itself are undefined at the point of infinite curvature $r=0$, indicating the prescence of a physical singularity since the Kretschmann scalar is an [invariant quantity](https://en.wikipedia.org/wiki/Curvature_invariant_(general_relativity)) in general relativity."
   ]
  },
  {
   "cell_type": "code",
   "execution_count": 26,
   "metadata": {},
   "outputs": [
    {
     "data": {
      "text/latex": [
       "$\\displaystyle \\frac{48 G^{2} M^{2}}{r^{6}}$"
      ],
      "text/plain": [
       "48*G**2*M**2/r**6"
      ]
     },
     "metadata": {},
     "output_type": "display_data"
    }
   ],
   "source": [
    "display(sp.simplify(K))"
   ]
  },
  {
   "cell_type": "markdown",
   "metadata": {},
   "source": [
    "In a [vacuum region](https://en.wikipedia.org/wiki/Vacuum_solution_(general_relativity)#:~:text=In%20general%20relativity%2C%20a%20vacuum,non%2Dgravitational%20fields%20are%20present.), such as the spacetime described by the Schwarzschild metric, $T_{\\mu\\nu}=0$ and hence $G_{\\mu\\nu}=0$ since $G_{\\mu\\nu}=8\\pi G\\,T_{\\mu\\nu}$ ([Einstein Equations](https://en.wikipedia.org/wiki/Einstein_field_equations))."
   ]
  },
  {
   "cell_type": "code",
   "execution_count": 27,
   "metadata": {},
   "outputs": [
    {
     "data": {
      "text/latex": [
       "$\\displaystyle \\left[\\begin{matrix}0 & 0 & 0 & 0\\\\0 & 0 & 0 & 0\\\\0 & 0 & 0 & 0\\\\0 & 0 & 0 & 0\\end{matrix}\\right]$"
      ],
      "text/plain": [
       "Matrix([\n",
       "[0, 0, 0, 0],\n",
       "[0, 0, 0, 0],\n",
       "[0, 0, 0, 0],\n",
       "[0, 0, 0, 0]])"
      ]
     },
     "metadata": {},
     "output_type": "display_data"
    }
   ],
   "source": [
    "display(sp.simplify(sp.Matrix(GDD)))"
   ]
  },
  {
   "cell_type": "markdown",
   "metadata": {},
   "source": [
    "#### Example 6 (1). [Extrinsic Curvature](https://en.wikipedia.org/wiki/Curvature) ([ADM Formalism](https://en.wikipedia.org/wiki/ADM_formalism))\n",
    "LaTeX Source | Rendered LaTeX\n",
    ":----------- | :-------------\n",
    "<pre><code>% define basis [r, \\theta, \\phi];<br>&#92;begin{align}<br>&emsp;&emsp;&emsp;\\gamma_{ij} &= g_{ij} &#92;&#92;<br>&emsp;&emsp;&emsp;% assign metric gammaDD;<br>&emsp;&emsp;&emsp;\\beta_i &= g_{0 i} &#92;&#92;<br>&emsp;&emsp;&emsp;\\alpha &= \\sqrt{\\gamma^{ij}\\beta_i\\beta_j - g_{0 0}} &#92;&#92;<br>&emsp;&emsp;&emsp;K_{ij} &= \\frac{1}{2\\alpha}\\left(\\nabla_i \\beta_j + \\nabla_j \\beta_i\\right) &#92;&#92;<br>&emsp;&emsp;&emsp;K &= \\gamma^{ij} K_{ij}<br>&#92;end{align}</code></pre>|$$\n",
    "% define basis [r, \\theta, \\phi];\n",
    "\\begin{align}\n",
    "    \\gamma_{ij} &= g_{ij} \\\\\n",
    "    % assign metric gammaDD;\n",
    "    \\beta_i &= g_{0 i} \\\\\n",
    "    \\alpha &= \\sqrt{\\gamma^{ij}\\beta_i\\beta_j - g_{0 0}} \\\\\n",
    "    K_{ij} &= \\frac{1}{2\\alpha}\\left(\\nabla_i \\beta_j + \\nabla_j \\beta_i\\right) \\\\\n",
    "    K &= \\gamma^{ij} K_{ij}\n",
    "\\end{align}\n",
    "$$"
   ]
  },
  {
   "cell_type": "code",
   "execution_count": 28,
   "metadata": {},
   "outputs": [],
   "source": [
    "parse(r\"\"\"\n",
    "    % define basis [r, \\theta, \\phi];\n",
    "    \\begin{align}\n",
    "        \\gamma_{ij} &= g_{ij} \\\\\n",
    "        % assign metric gammaDD;\n",
    "        \\beta_i &= g_{0 i} \\\\\n",
    "        \\alpha &= \\sqrt{\\gamma^{ij}\\beta_i\\beta_j - g_{0 0}} \\\\\n",
    "        K_{ij} &= \\frac{1}{2\\alpha}\\left(\\nabla_i \\beta_j + \\nabla_j \\beta_i\\right) \\\\\n",
    "        K &= \\gamma^{ij} K_{ij}\n",
    "    \\end{align}\n",
    "\"\"\");"
   ]
  },
  {
   "cell_type": "markdown",
   "metadata": {},
   "source": [
    "For the Schwarzschild metric (defined in the previous example), the extrinsic curvature in the ADM formalism should evaluate to zero."
   ]
  },
  {
   "cell_type": "code",
   "execution_count": 29,
   "metadata": {},
   "outputs": [
    {
     "data": {
      "text/latex": [
       "$\\displaystyle \\left[\\begin{matrix}0 & 0 & 0\\\\0 & 0 & 0\\\\0 & 0 & 0\\end{matrix}\\right]$"
      ],
      "text/plain": [
       "Matrix([\n",
       "[0, 0, 0],\n",
       "[0, 0, 0],\n",
       "[0, 0, 0]])"
      ]
     },
     "metadata": {},
     "output_type": "display_data"
    }
   ],
   "source": [
    "display(sp.Matrix(KDD))"
   ]
  },
  {
   "cell_type": "markdown",
   "metadata": {},
   "source": [
    "#### Example 6 (2). [Hamiltonian/Momentum Constraint](https://en.wikipedia.org/wiki/Hamiltonian_constraint)\n",
    "LaTeX Source | Rendered LaTeX\n",
    ":----------- | :-------------\n",
    "<pre><code>&#92;begin{align}<br>&emsp;&emsp;&emsp;K^{ij} &= \\gamma^{ik} \\gamma^{jl} K_{kl} &#92;&#92;<br>&emsp;&emsp;&emsp;R_{ij} &= \\partial_k \\Gamma^k_{ij} - \\partial_j \\Gamma^k_{ik}<br>&emsp;&emsp;&emsp;&emsp;&emsp;&emsp;+ \\Gamma^k_{ij}\\Gamma^l_{kl} - \\Gamma^l_{ik}\\Gamma^k_{lj} &#92;&#92;<br>&emsp;&emsp;&emsp;R &= \\gamma^{ij} R_{ij} &#92;&#92;<br>&emsp;&emsp;&emsp;E &= \\frac{1}{16\\pi}\\left(R + K^{{2}} - K_{ij}K^{ij}\\right) &#92;&#92;<br>&emsp;&emsp;&emsp;p_i &= \\frac{1}{8\\pi}\\left(D_j \\gamma^{jk}K_{ki} - D_i K\\right)<br>&#92;end{align}</code></pre>|$$\n",
    "\\begin{align}\n",
    "    K^{ij} &= \\gamma^{ik} \\gamma^{jl} K_{kl} \\\\\n",
    "    R_{ij} &= \\partial_k \\Gamma^k_{ij} - \\partial_j \\Gamma^k_{ik}\n",
    "        + \\Gamma^k_{ij}\\Gamma^l_{kl} - \\Gamma^l_{ik}\\Gamma^k_{lj} \\\\\n",
    "    R &= \\gamma^{ij} R_{ij} \\\\\n",
    "    E &= \\frac{1}{16\\pi}\\left(R + K^{{2}} - K_{ij}K^{ij}\\right) \\\\\n",
    "    p_i &= \\frac{1}{8\\pi}\\left(D_j \\gamma^{jk}K_{ki} - D_i K\\right)\n",
    "\\end{align}\n",
    "$$"
   ]
  },
  {
   "cell_type": "code",
   "execution_count": 30,
   "metadata": {},
   "outputs": [],
   "source": [
    "parse(r\"\"\"\n",
    "    \\begin{align}\n",
    "        K^{ij} &= \\gamma^{ik} \\gamma^{jl} K_{kl} \\\\\n",
    "        R_{ij} &= \\partial_k \\Gamma^k_{ij} - \\partial_j \\Gamma^k_{ik}\n",
    "            + \\Gamma^k_{ij}\\Gamma^l_{kl} - \\Gamma^l_{ik}\\Gamma^k_{lj} \\\\\n",
    "        R &= \\gamma^{ij} R_{ij} \\\\\n",
    "        E &= \\frac{1}{16\\pi}\\left(R + K^{{2}} - K_{ij}K^{ij}\\right) \\\\\n",
    "        p_i &= \\frac{1}{8\\pi}\\left(D_j \\gamma^{jk} K_{ki} - D_i K\\right)\n",
    "    \\end{align}\n",
    "\"\"\")\n",
    "Parser.continue_parsing = False"
   ]
  },
  {
   "cell_type": "markdown",
   "metadata": {},
   "source": [
    "Every solution to the Einstein Equations, including Schwarzschild, must satisfy the Hamiltonian constraint ($E=0$) and the Momentum constraint ($p_i=0$)."
   ]
  },
  {
   "cell_type": "code",
   "execution_count": 31,
   "metadata": {},
   "outputs": [
    {
     "name": "stdout",
     "output_type": "stream",
     "text": [
      "E = 0, pD = [0, 0, 0]\n"
     ]
    }
   ],
   "source": [
    "print('E = %s, pD = %s' % (sp.simplify(E), pD))"
   ]
  },
  {
   "cell_type": "markdown",
   "metadata": {},
   "source": [
    "<a id='error'></a>\n",
    "\n",
    "# Step 4: Exception Handling and Index Checking \\[Back to [top](#toc)\\]\n",
    "$$\\label{error}$$\n",
    "\n",
    "We extended our robust error messaging using the custom `TensorError` exception, which should handle any inconsistent tensor dimension and any violation of the Einstein summation convention, specifically that a bound index must appear exactly once as a superscript and exactly once as a subscript in any single term and that a free index must appear in every term with the same position and cannot be summed over in any term."
   ]
  },
  {
   "cell_type": "code",
   "execution_count": 32,
   "metadata": {},
   "outputs": [
    {
     "name": "stdout",
     "output_type": "stream",
     "text": [
      "TensorError: illegal bound index\n"
     ]
    }
   ],
   "source": [
    "try:\n",
    "    parse(r\"\"\"\n",
    "        % define nosym TUD (4D), uD (4D);\n",
    "        v^\\mu = T^\\mu_\\nu u_\\nu\n",
    "    \"\"\")\n",
    "except TensorError as err:\n",
    "    print('TensorError: %s' % err)"
   ]
  },
  {
   "cell_type": "code",
   "execution_count": 33,
   "metadata": {},
   "outputs": [
    {
     "name": "stdout",
     "output_type": "stream",
     "text": [
      "TensorError: unbalanced free index\n"
     ]
    }
   ],
   "source": [
    "try:\n",
    "    parse(r\"\"\"\n",
    "        % define nosym TUD (4D), uD (4D);\n",
    "        v^\\mu = T^\\mu_\\nu u_\\mu\n",
    "    \"\"\")\n",
    "except TensorError as err:\n",
    "    print('TensorError: %s' % err)"
   ]
  },
  {
   "cell_type": "code",
   "execution_count": 34,
   "metadata": {},
   "outputs": [
    {
     "name": "stdout",
     "output_type": "stream",
     "text": [
      "ParseError: inconsistent indexing range for index 'mu'\n"
     ]
    }
   ],
   "source": [
    "try:\n",
    "    parse(r\"\"\"\n",
    "        % define nosym TUD (4D), uD (3D);\n",
    "        v^\\mu = T^\\mu_\\nu u_\\mu\n",
    "    \"\"\")\n",
    "except ParseError as err:\n",
    "    print('ParseError: %s' % err)"
   ]
  },
  {
   "cell_type": "code",
   "execution_count": 35,
   "metadata": {},
   "outputs": [
    {
     "name": "stdout",
     "output_type": "stream",
     "text": [
      "ParseError: T_{\\mu\\nu} = v_\\mu w_\\nu\n",
      "                               ^\n",
      "cannot index undefined tensor 'wD' at position 54\n"
     ]
    }
   ],
   "source": [
    "try:\n",
    "    parse(r\"\"\"\n",
    "        % define vD (4D);\n",
    "        T_{\\mu\\nu} = v_\\mu w_\\nu\n",
    "    \"\"\")\n",
    "except ParseError as err:\n",
    "    print('ParseError: %s' % err)"
   ]
  },
  {
   "cell_type": "code",
   "execution_count": 36,
   "metadata": {
    "scrolled": true
   },
   "outputs": [
    {
     "name": "stdout",
     "output_type": "stream",
     "text": [
      "ParseError: T_{\\mu\\nu} = \\partial_\\nu v_\\mu\n",
      "                                      ^\n",
      "cannot differentiate undefined tensor 'vD' at position 68\n"
     ]
    }
   ],
   "source": [
    "try:\n",
    "    parse(r\"\"\"\n",
    "        % define deriv variable;\n",
    "        T_{\\mu\\nu} = \\partial_\\nu v_\\mu\n",
    "    \"\"\")\n",
    "except ParseError as err:\n",
    "    print('ParseError: %s' % err)"
   ]
  },
  {
   "cell_type": "code",
   "execution_count": 37,
   "metadata": {},
   "outputs": [
    {
     "name": "stdout",
     "output_type": "stream",
     "text": [
      "ParseError: cannot differentiate symbolically without specifying a basis\n"
     ]
    }
   ],
   "source": [
    "try:\n",
    "    parse(r\"\"\"\n",
    "        % define vD (2D);\n",
    "        v_0 = x^{{2}} + 2x;\n",
    "        v_1 = y\\sqrt{x};\n",
    "        T_{\\mu\\nu} = \\partial_\\nu v_\\mu\n",
    "    \"\"\")\n",
    "except ParseError as err:\n",
    "    print('ParseError: %s' % err)"
   ]
  },
  {
   "cell_type": "code",
   "execution_count": 38,
   "metadata": {},
   "outputs": [
    {
     "name": "stdout",
     "output_type": "stream",
     "text": [
      "ParseError: + \\Gamma^\\alpha_{\\mu\\gamma}\\Gamma^\\gamma_{\\beta\\nu} - \\Gamma^\\alpha_{\\nu\\sigma}\\Gamma^\\sigma_{\\beta\\mu}\n",
      "              ^\n",
      "cannot generate christoffel symbol without defined metric 'g'\n"
     ]
    }
   ],
   "source": [
    "try:\n",
    "    parse(r\"\"\"\n",
    "        R^\\alpha{}_{\\beta\\mu\\nu} = \\partial_\\mu \\Gamma^\\alpha_{\\beta\\nu} - \\partial_\\nu \\Gamma^\\alpha_{\\beta\\mu}\n",
    "            + \\Gamma^\\alpha_{\\mu\\gamma}\\Gamma^\\gamma_{\\beta\\nu} - \\Gamma^\\alpha_{\\nu\\sigma}\\Gamma^\\sigma_{\\beta\\mu}\n",
    "    \"\"\")\n",
    "except ParseError as err:\n",
    "    print('ParseError: %s' % err)"
   ]
  },
  {
   "cell_type": "code",
   "execution_count": 39,
   "metadata": {},
   "outputs": [
    {
     "name": "stdout",
     "output_type": "stream",
     "text": [
      "ParseError: J^\\mu = (4\\pi k)^{-1} \\nabla_\\nu F^{\\mu\\nu}\n",
      "                                  ^\n",
      "cannot generate covariant derivative without defined metric 'g'\n"
     ]
    }
   ],
   "source": [
    "try:\n",
    "    parse(r\"\"\"\n",
    "        % define anti01 FUU (4D), const k;\n",
    "        J^\\mu = (4\\pi k)^{-1} \\nabla_\\nu F^{\\mu\\nu}\n",
    "    \"\"\")\n",
    "except ParseError as err:\n",
    "    print('ParseError: %s' % err)"
   ]
  },
  {
   "cell_type": "markdown",
   "metadata": {},
   "source": [
    "<a id='latex_pdf_output'></a>\n",
    "\n",
    "# Step 5: Output this notebook to $\\LaTeX$-formatted PDF file \\[Back to [top](#toc)\\]\n",
    "$$\\label{latex_pdf_output}$$\n",
    "\n",
    "The following code cell converts this Jupyter notebook into a proper, clickable $\\LaTeX$-formatted PDF file. After the cell is successfully run, the generated PDF may be found in the root NRPy+ tutorial directory, with filename\n",
    "[Tutorial-LaTeX_Parser_Interface.pdf](Tutorial-LaTeX_Parser_Interface.pdf) (Note that clicking on this link may not work; you may need to open the PDF file through another means.)"
   ]
  },
  {
   "cell_type": "code",
   "execution_count": 40,
   "metadata": {},
   "outputs": [],
   "source": [
    "import cmdline_helper as cmd    # NRPy+: Multi-platform Python command-line interface\n",
    "cmd.output_Jupyter_notebook_to_LaTeXed_PDF(\"Tutorial-LaTeX_Parser_Interface\")"
   ]
  }
 ],
 "metadata": {
  "file_extension": ".py",
  "kernelspec": {
   "display_name": "Python 3",
   "language": "python",
   "name": "python3"
  },
  "language_info": {
   "codemirror_mode": {
    "name": "ipython",
    "version": 3
   },
   "file_extension": ".py",
   "mimetype": "text/x-python",
   "name": "python",
   "nbconvert_exporter": "python",
   "pygments_lexer": "ipython3",
   "version": "3.8.0"
  },
  "mimetype": "text/x-python",
  "name": "python",
  "npconvert_exporter": "python",
  "pygments_lexer": "ipython3",
  "version": 3
 },
 "nbformat": 4,
 "nbformat_minor": 2
}
